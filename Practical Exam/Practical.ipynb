{
 "cells": [
  {
   "cell_type": "code",
   "execution_count": 1,
   "id": "93cf6cf7",
   "metadata": {},
   "outputs": [],
   "source": [
    "# Write a BFS traversal"
   ]
  },
  {
   "cell_type": "code",
   "execution_count": 7,
   "id": "217e3961",
   "metadata": {},
   "outputs": [
    {
     "name": "stdout",
     "output_type": "stream",
     "text": [
      "5\n",
      "4\n",
      "3\n",
      "7\n",
      "8\n"
     ]
    }
   ],
   "source": [
    "# Breadth First Search Traversal\n",
    "\n",
    "graph = {\n",
    "        \"5\" : ['3','7'],\n",
    "        \"4\" : ['5','6'],\n",
    "        \"3\" : ['7','8'],\n",
    "        \"7\": ['8'],\n",
    "        \"8\" : []\n",
    "        }\n",
    "\n",
    "visited = []\n",
    "unvisited = []\n",
    "def bfs(visited, graph,node):\n",
    "    visited.append(node)\n",
    "    unvisited.append(node)\n",
    "    while unvisited:\n",
    "        m = unvisited.pop(0)\n",
    "        print(m)\n",
    "        for neighbour in graph:\n",
    "            if neighbour not in visited:\n",
    "                visited.append(neighbour)\n",
    "                unvisited.append(neighbour)\n",
    "    \n",
    "\n",
    "\n",
    "bfs(visited, graph, \"5\")"
   ]
  },
  {
   "cell_type": "code",
   "execution_count": null,
   "id": "f4d81336",
   "metadata": {},
   "outputs": [],
   "source": []
  }
 ],
 "metadata": {
  "kernelspec": {
   "display_name": "Python 3 (ipykernel)",
   "language": "python",
   "name": "python3"
  },
  "language_info": {
   "codemirror_mode": {
    "name": "ipython",
    "version": 3
   },
   "file_extension": ".py",
   "mimetype": "text/x-python",
   "name": "python",
   "nbconvert_exporter": "python",
   "pygments_lexer": "ipython3",
   "version": "3.10.9"
  }
 },
 "nbformat": 4,
 "nbformat_minor": 5
}
